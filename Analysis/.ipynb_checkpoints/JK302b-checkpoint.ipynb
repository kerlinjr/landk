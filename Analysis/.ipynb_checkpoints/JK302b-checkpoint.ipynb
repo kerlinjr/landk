{
 "cells": [
  {
   "cell_type": "markdown",
   "metadata": {},
   "source": [
    "# JK302b Visual Impact on Phoneme Perception in Noise with Natural Sentences\n",
    "\n",
    "We are going to look at the pilot data and try to attack a few key questions with this notebook.\n",
    "\n",
    "1. How much does lip reading improve phonemic perception of clear vs noisy speech?\n",
    "\n",
    "2. Does this interaction change over the course of a sentence?\n",
    "\n",
    "3. Do some phonemes benefit from speechreading more than others?"
   ]
  },
  {
   "cell_type": "markdown",
   "metadata": {},
   "source": [
    "### Loading..."
   ]
  },
  {
   "cell_type": "code",
   "execution_count": 2,
   "metadata": {
    "collapsed": false
   },
   "outputs": [
    {
     "name": "stderr",
     "output_type": "stream",
     "text": [
      "C:\\Anaconda2_32bit\\lib\\site-packages\\IPython\\core\\interactiveshell.py:3006: DtypeWarning: Columns (92) have mixed types. Specify dtype option on import or set low_memory=False.\n",
      "  if self.run_code(code, result):\n"
     ]
    }
   ],
   "source": [
    "import pandas as pd\n",
    "import numpy as np\n",
    "import matplotlib.pyplot as plt\n",
    "import os\n",
    "\n",
    "df = pd.DataFrame.from_csv('C:/Experiments/JK302/dataOut/bigP_24_r2.csv')\n",
    "\n",
    "#Relabel babble condition for clarity\n",
    "df.loc[df['VideoCond'] == 'AV',('VideoCond')] = 'Audiovisual'\n",
    "df.loc[df['VideoCond'] == 'AO',('VideoCond')] = 'Auditory Only'\n",
    "\n",
    "#Make WordIdx start from 1, not zero\n",
    "df.WordIdx = df.WordIdx+1"
   ]
  },
  {
   "cell_type": "markdown",
   "metadata": {},
   "source": [
    "Lessons learned from Jk301 Initial Notes"
   ]
  },
  {
   "cell_type": "code",
   "execution_count": 3,
   "metadata": {
    "collapsed": false
   },
   "outputs": [
    {
     "data": {
      "text/plain": [
       "Index([u'level_0', u'Unnamed: 0.1', u'index', u'TotalTrialOrder', u'Talker',\n",
       "       u'SentenceType', u'SentenceID', u'Gender', u'NumWords', u'AVOrder',\n",
       "       u'SoundCond', u'VideoCond', u'CounterBalBlock', u'TrialOrder',\n",
       "       u'BabbleFile', u'Subject', u'SubjectTalkerNum', u'SourceSentence',\n",
       "       u'TargetSentence', u'dBSNR', u'1LogGram', u'2LogGram', u'3LogGram',\n",
       "       u'Indx', u'Word', u'UnTrn', u'StTrn', u'NSyll', u'NPhon', u'unsDENS',\n",
       "       u'unsFDEN', u'unsLDEN', u'unsCDEN', u'strDENS', u'strFDEN', u'strLDEN',\n",
       "       u'strCDEN', u'unsBPAV', u'unsFBPAV', u'unsLBPAV', u'unsCBPAV',\n",
       "       u'strBPAV', u'strFBPAV', u'strLBPAV', u'strCBPAV', u'unsTPAV',\n",
       "       u'unsFTPAV', u'unsLTPAV', u'unsCTPAV', u'strTPAV', u'strFTPAV',\n",
       "       u'strLTPAV', u'strCTPAV', u'unsPOSPAV', u'unsFPOSPAV', u'unsLPOSPAV',\n",
       "       u'unsCPOSPAV', u'strPOSPAV', u'strFPOSPAV', u'strLPOSPAV',\n",
       "       u'strCPOSPAV', u'unsLCPOSPAV', u'unsFLCPOSPAV', u'unsLLCPOSPAV',\n",
       "       u'unsCLCPOSPAV', u'strLCPOSPAV', u'strFLCPOSPAV', u'strLLCPOSPAV',\n",
       "       u'strCLCPOSPAV', u'SFreq', u'SCDcnt', u'PhonemeCount', u'PhonemeIndex',\n",
       "       u'TargetPhoneme', u'SourcePhoneme', u'PhonemeHitBool', u'WordCount',\n",
       "       u'WordIdx', u'TargetWord', u'SourceWord', u'WordACC', u'SentenceCount',\n",
       "       u'FileID', u'OnsetSample', u'OffsetSample', u'SpeechRMS', u'HTKPhoneme',\n",
       "       u'Age', u'SubjectGender', u'SecondLangBeforeFive',\n",
       "       u'PrimarySecondLanguage', u'YearsEducation', u'Handedness', u'PENNPOS',\n",
       "       u'UPOS', u'AllPhonsMatch', u'AllPhonsMiss', u'NumWordsInSentence'],\n",
       "      dtype='object')"
      ]
     },
     "execution_count": 3,
     "metadata": {},
     "output_type": "execute_result"
    }
   ],
   "source": [
    "# Fix phoneme alignment issue (correct word given but phonemes assigned to wrong word)\n",
    "# Find where words match\n",
    "matchIdx = df['SourceWord'] == df['TargetWord']\n",
    "#Set the source phonemes to match the target\n",
    "df.loc[matchIdx,('SourcePhoneme')] = df.loc[matchIdx,('TargetPhoneme')] \n",
    "#Reset the measure of phoneme accuracy\n",
    "df.loc[:,'PhonemeHitBool'] = df['SourcePhoneme'] == df['TargetPhoneme']\n",
    "#Set a measure all phonemes matching\n",
    "df.loc[:,('AllPhonsMatch')] = df.groupby('WordCount')['PhonemeHitBool'].transform(lambda x: np.mean(x) ==1)\n",
    "#Set a measure all phonemes missing\n",
    "df.loc[:,('AllPhonsMiss')] = df.groupby('WordCount')['PhonemeHitBool'].transform(lambda x: np.mean(x) ==0)\n",
    "# Make a column for the number of words in the sentence\n",
    "df['NumWordsInSentence'] = df.groupby(['SentenceCount'])['WordIdx'].transform(max)\n",
    "dfPT = pd.read_excel(os.path.normpath('C:\\TCDTIMIT\\Tables\\Custom\\TablesPhoneme.xlsx'),encoding='latin-1')\n",
    "df = df[df['TargetPhoneme'].isin(dfPT['CMU Phonemes'])]\n",
    "#df.rename(columns={'0':'pennpos'}, inplace=True)\n",
    "#df.rename(columns={'0.1':'upos'}, inplace=True)\n",
    "df.keys()"
   ]
  },
  {
   "cell_type": "code",
   "execution_count": 4,
   "metadata": {
    "collapsed": false
   },
   "outputs": [],
   "source": [
    "#Make plots prettier\n",
    "#Edited from Randel Olson and many at StackOverflow\n",
    "# These are the \"Tableau 20\" colors as RGB.    \n",
    "tableau20 = [(31, 119, 180), (174, 199, 232), (255, 127, 14), (255, 187, 120),    \n",
    "             (44, 160, 44), (152, 223, 138), (214, 39, 40), (255, 152, 150),    \n",
    "             (148, 103, 189), (197, 176, 213), (140, 86, 75), (196, 156, 148),    \n",
    "             (227, 119, 194), (247, 182, 210), (127, 127, 127), (199, 199, 199),    \n",
    "             (188, 189, 34), (219, 219, 141), (23, 190, 207), (158, 218, 229)]    \n",
    "  \n",
    "# Scale the RGB values to the [0, 1] range, which is the format matplotlib accepts.    \n",
    "for i in range(len(tableau20)):    \n",
    "    r, g, b = tableau20[i]    \n",
    "    tableau20[i] = (r / 255., g / 255., b / 255.) \n",
    "\n",
    "\n",
    "plt.rc('text', color = 'black') \n",
    "plt.rc('font', family='sans-serif') \n",
    "plt.rc('font', serif='Helvetica Neue') \n",
    "plt.rc('axes', titlesize = 18, labelsize = 14,labelcolor ='black')  \n",
    "plt.rc('lines', linewidth=2,markersize = 10)\n",
    "plt.rc('xtick',labelsize = 10,color ='black')\n",
    "plt.rc('ytick',labelsize = 10,color ='black')\n",
    "def hide_spines():\n",
    "    \"\"\"Hides the top and rightmost axis spines from view for all active\n",
    "    figures and their respective axes.\"\"\"\n",
    "\n",
    "    # Retrieve a list of all current figures.\n",
    "    figures = [x for x in plt._pylab_helpers.Gcf.get_all_fig_managers()]\n",
    "    for figure in figures:\n",
    "        # Get all Axis instances related to the figure.\n",
    "        for ax in figure.canvas.figure.get_axes():\n",
    "            # Disable spines.\n",
    "            ax.spines['right'].set_color('none')\n",
    "            ax.spines['top'].set_color('none')\n",
    "            # Disable ticks.\n",
    "            ax.xaxis.set_ticks_position('bottom')\n",
    "            ax.yaxis.set_ticks_position('left')\n",
    "%matplotlib inline"
   ]
  },
  {
   "cell_type": "code",
   "execution_count": 5,
   "metadata": {
    "collapsed": false
   },
   "outputs": [
    {
     "data": {
      "text/plain": [
       "Index([u'level_0', u'Unnamed: 0.1', u'index', u'TotalTrialOrder', u'Talker',\n",
       "       u'SentenceType', u'SentenceID', u'Gender', u'NumWords', u'AVOrder',\n",
       "       u'SoundCond', u'VideoCond', u'CounterBalBlock', u'TrialOrder',\n",
       "       u'BabbleFile', u'Subject', u'SubjectTalkerNum', u'SourceSentence',\n",
       "       u'TargetSentence', u'dBSNR', u'1LogGram', u'2LogGram', u'3LogGram',\n",
       "       u'Indx', u'Word', u'UnTrn', u'StTrn', u'NSyll', u'NPhon', u'unsDENS',\n",
       "       u'unsFDEN', u'unsLDEN', u'unsCDEN', u'strDENS', u'strFDEN', u'strLDEN',\n",
       "       u'strCDEN', u'unsBPAV', u'unsFBPAV', u'unsLBPAV', u'unsCBPAV',\n",
       "       u'strBPAV', u'strFBPAV', u'strLBPAV', u'strCBPAV', u'unsTPAV',\n",
       "       u'unsFTPAV', u'unsLTPAV', u'unsCTPAV', u'strTPAV', u'strFTPAV',\n",
       "       u'strLTPAV', u'strCTPAV', u'unsPOSPAV', u'unsFPOSPAV', u'unsLPOSPAV',\n",
       "       u'unsCPOSPAV', u'strPOSPAV', u'strFPOSPAV', u'strLPOSPAV',\n",
       "       u'strCPOSPAV', u'unsLCPOSPAV', u'unsFLCPOSPAV', u'unsLLCPOSPAV',\n",
       "       u'unsCLCPOSPAV', u'strLCPOSPAV', u'strFLCPOSPAV', u'strLLCPOSPAV',\n",
       "       u'strCLCPOSPAV', u'SFreq', u'SCDcnt', u'PhonemeCount', u'PhonemeIndex',\n",
       "       u'TargetPhoneme', u'SourcePhoneme', u'PhonemeHitBool', u'WordCount',\n",
       "       u'WordIdx', u'TargetWord', u'SourceWord', u'WordACC', u'SentenceCount',\n",
       "       u'FileID', u'OnsetSample', u'OffsetSample', u'SpeechRMS', u'HTKPhoneme',\n",
       "       u'Age', u'SubjectGender', u'SecondLangBeforeFive',\n",
       "       u'PrimarySecondLanguage', u'YearsEducation', u'Handedness', u'PENNPOS',\n",
       "       u'UPOS', u'AllPhonsMatch', u'AllPhonsMiss', u'NumWordsInSentence'],\n",
       "      dtype='object')"
      ]
     },
     "execution_count": 5,
     "metadata": {},
     "output_type": "execute_result"
    }
   ],
   "source": [
    "df.keys()"
   ]
  },
  {
   "cell_type": "markdown",
   "metadata": {},
   "source": [
    "### How much does lip reading improve phonemic perception of clear vs noisy speech?"
   ]
  },
  {
   "cell_type": "code",
   "execution_count": 6,
   "metadata": {
    "collapsed": false
   },
   "outputs": [
    {
     "data": {
      "text/plain": [
       "<matplotlib.legend.Legend at 0xcb8b4d0>"
      ]
     },
     "execution_count": 6,
     "metadata": {},
     "output_type": "execute_result"
    },
    {
     "data": {
      "image/png": "[encoded data removed]",
      "text/plain": [
       "<matplotlib.figure.Figure at 0xcb8b4f0>"
      ]
     },
     "metadata": {},
     "output_type": "display_data"
    }
   ],
   "source": [
    "videoByBabble = df[['VideoCond','SoundCond','PhonemeHitBool']].groupby(['SoundCond','VideoCond']).mean().unstack()\n",
    "videoByBabble\n",
    "#ax = videoByBabble.plot(kind = 'bar',color = tableau20[0:1])\n",
    "ax = videoByBabble.plot(kind ='bar',figsize = (6,4), color = [tableau20[x] for x in [0,5]])\n",
    "ax.set_ylabel('Phoneme Accuracy')\n",
    "ax.set_xlabel('Noise Level')\n",
    "ax.legend(loc='best',labels = ['Audiovisual','Auditory Only'])"
   ]
  },
  {
   "cell_type": "markdown",
   "metadata": {},
   "source": [
    "Do we replicate Sumby and Pollack (1954)?  That is to say, do we find that the ratio of AV improvement over AO is roughly constant?  Calculated as (AOerrors-AVerrors)/AOerrors"
   ]
  },
  {
   "cell_type": "code",
   "execution_count": 7,
   "metadata": {
    "collapsed": false
   },
   "outputs": [
    {
     "data": {
      "text/html": [
       "<div>\n",
       "<table border=\"1\" class=\"dataframe\">\n",
       "  <thead>\n",
       "    <tr>\n",
       "      <th></th>\n",
       "      <th colspan=\"3\" halign=\"left\">PhonemeHitBool</th>\n",
       "    </tr>\n",
       "    <tr>\n",
       "      <th>VideoCond</th>\n",
       "      <th>Audiovisual</th>\n",
       "      <th>Auditory Only</th>\n",
       "      <th>SumbyRatio</th>\n",
       "    </tr>\n",
       "    <tr>\n",
       "      <th>SoundCond</th>\n",
       "      <th></th>\n",
       "      <th></th>\n",
       "      <th></th>\n",
       "    </tr>\n",
       "  </thead>\n",
       "  <tbody>\n",
       "    <tr>\n",
       "      <th>Babble</th>\n",
       "      <td>0.451399</td>\n",
       "      <td>0.637134</td>\n",
       "      <td>0.291516</td>\n",
       "    </tr>\n",
       "    <tr>\n",
       "      <th>Clear</th>\n",
       "      <td>0.061197</td>\n",
       "      <td>0.074541</td>\n",
       "      <td>0.179007</td>\n",
       "    </tr>\n",
       "  </tbody>\n",
       "</table>\n",
       "</div>"
      ],
      "text/plain": [
       "          PhonemeHitBool                         \n",
       "VideoCond    Audiovisual Auditory Only SumbyRatio\n",
       "SoundCond                                        \n",
       "Babble          0.451399      0.637134   0.291516\n",
       "Clear           0.061197      0.074541   0.179007"
      ]
     },
     "execution_count": 7,
     "metadata": {},
     "output_type": "execute_result"
    }
   ],
   "source": [
    "videoByBabbleInvert = 1-videoByBabble.loc[:,:]\n",
    "av = videoByBabbleInvert.xs('Audiovisual',level = 1,axis=1)\n",
    "ao = videoByBabbleInvert.xs('Auditory Only',level = 1,axis=1)\n",
    "sumbyRatio = ((ao-av)/ao)\n",
    "videoByBabbleInvert['PhonemeHitBool','SumbyRatio'] = sumbyRatio\n",
    "videoByBabbleInvert\n"
   ]
  },
  {
   "cell_type": "markdown",
   "metadata": {},
   "source": [
    "Looks like in our case the amount phonemic improvement under noisy conditions is not only numerically higher, it's a much higher ratio of improvement. However, it could be that our listening \"ceiling\" is less than 100% in practice, due to loss in working memory, spelling errors or accent confusion. "
   ]
  },
  {
   "cell_type": "code",
   "execution_count": 8,
   "metadata": {
    "collapsed": false
   },
   "outputs": [
    {
     "data": {
      "text/plain": [
       "<matplotlib.text.Text at 0x8f83e70>"
      ]
     },
     "execution_count": 8,
     "metadata": {},
     "output_type": "execute_result"
    },
    {
     "data": {
      "image/png": "[encoded data removed]",
      "text/plain": [
       "<matplotlib.figure.Figure at 0x12324850>"
      ]
     },
     "metadata": {},
     "output_type": "display_data"
    },
    {
     "data": {
      "image/png": "[encoded data removed]",
      "text/plain": [
       "<matplotlib.figure.Figure at 0x123245d0>"
      ]
     },
     "metadata": {},
     "output_type": "display_data"
    }
   ],
   "source": [
    "data = df[['NumWordsInSentence','SentenceCount']].groupby('NumWordsInSentence').count()\n",
    "ax = data.plot(kind = 'line',figsize= (8,4),legend = None)\n",
    "ax.set_ylabel('Count')\n",
    "\n",
    "data = df[['NumWordsInSentence','SentenceCount']].groupby('NumWordsInSentence').count().cumsum()\n",
    "ax = data.plot(kind = 'line',figsize= (8,4),legend = None)\n",
    "ax.set_ylabel('Cumulative Count')"
   ]
  },
  {
   "cell_type": "code",
   "execution_count": 9,
   "metadata": {
    "collapsed": false
   },
   "outputs": [
    {
     "data": {
      "text/html": [
       "<div>\n",
       "<table border=\"1\" class=\"dataframe\">\n",
       "  <thead>\n",
       "    <tr>\n",
       "      <th></th>\n",
       "      <th colspan=\"3\" halign=\"left\">PhonemeHitBool</th>\n",
       "    </tr>\n",
       "    <tr>\n",
       "      <th>VideoCond</th>\n",
       "      <th>Audiovisual</th>\n",
       "      <th>Auditory Only</th>\n",
       "      <th>SumbyRatio</th>\n",
       "    </tr>\n",
       "    <tr>\n",
       "      <th>SoundCond</th>\n",
       "      <th></th>\n",
       "      <th></th>\n",
       "      <th></th>\n",
       "    </tr>\n",
       "  </thead>\n",
       "  <tbody>\n",
       "    <tr>\n",
       "      <th>Babble</th>\n",
       "      <td>0.477425</td>\n",
       "      <td>0.663729</td>\n",
       "      <td>0.280692</td>\n",
       "    </tr>\n",
       "    <tr>\n",
       "      <th>Clear</th>\n",
       "      <td>0.088332</td>\n",
       "      <td>0.090235</td>\n",
       "      <td>0.021082</td>\n",
       "    </tr>\n",
       "  </tbody>\n",
       "</table>\n",
       "</div>"
      ],
      "text/plain": [
       "          PhonemeHitBool                         \n",
       "VideoCond    Audiovisual Auditory Only SumbyRatio\n",
       "SoundCond                                        \n",
       "Babble          0.477425      0.663729   0.280692\n",
       "Clear           0.088332      0.090235   0.021082"
      ]
     },
     "execution_count": 9,
     "metadata": {},
     "output_type": "execute_result"
    },
    {
     "data": {
      "image/png": "[encoded data removed]",
      "text/plain": [
       "<matplotlib.figure.Figure at 0xd10e750>"
      ]
     },
     "metadata": {},
     "output_type": "display_data"
    },
    {
     "data": {
      "text/plain": [
       "<matplotlib.figure.Figure at 0xd10e310>"
      ]
     },
     "metadata": {},
     "output_type": "display_data"
    }
   ],
   "source": [
    "#Long sentence analysis\n",
    "videoByBabble = df[['VideoCond','SoundCond','PhonemeHitBool']].loc[df['NumWordsInSentence'] >= 8,:].groupby(['SoundCond','VideoCond']).mean().unstack()\n",
    "videoByBabble\n",
    "#ax = videoByBabble.plot(kind = 'bar',color = tableau20[0:1])\n",
    "ax = videoByBabble.plot(kind ='bar',figsize = (6,4), color = [tableau20[x] for x in [0,5]])\n",
    "ax.set_ylabel('Phoneme Accuracy')\n",
    "ax.set_xlabel('Noise Level')\n",
    "ax.legend(loc='best',labels = ['Audiovisual','Auditory Only'])\n",
    "plt.figure()\n",
    "videoByBabbleInvert = 1-videoByBabble.loc[:,:]\n",
    "av = videoByBabbleInvert.xs('Audiovisual',level = 1,axis=1)\n",
    "ao = videoByBabbleInvert.xs('Auditory Only',level = 1,axis=1)\n",
    "sumbyRatio = ((ao-av)/ao)\n",
    "videoByBabbleInvert['PhonemeHitBool','SumbyRatio'] = sumbyRatio\n",
    "videoByBabbleInvert"
   ]
  },
  {
   "cell_type": "markdown",
   "metadata": {},
   "source": []
  },
  {
   "cell_type": "markdown",
   "metadata": {},
   "source": [
    "### Does the contribution of visual information to phonemic perception change over the course of a sentence?"
   ]
  },
  {
   "cell_type": "code",
   "execution_count": 10,
   "metadata": {
    "collapsed": false
   },
   "outputs": [
    {
     "data": {
      "image/png": "[encoded data removed]",
      "text/plain": [
       "<matplotlib.figure.Figure at 0xd0e70b0>"
      ]
     },
     "metadata": {},
     "output_type": "display_data"
    }
   ],
   "source": [
    "#Instances by word position in sentence\n",
    "data = df[['PhonemeHitBool','WordIdx','WordCount']].groupby('WordCount').mean().groupby('WordIdx').count()\n",
    "ax = data.plot(kind='line',figsize=(8,4),color = tableau20[0],legend = None )\n",
    "ax.set_title('Words per Word Position')\n",
    "ax.set_xlabel('Nth Word')\n",
    "ax.set_ylabel('Count')\n",
    "hide_spines()\n"
   ]
  },
  {
   "cell_type": "markdown",
   "metadata": {},
   "source": [
    "At higher word positions, we have fewer instances to draw from. We'll limit or view to word positions 8 or fewer to have enough instances per condition to draw conclusions."
   ]
  },
  {
   "cell_type": "code",
   "execution_count": 41,
   "metadata": {
    "collapsed": false
   },
   "outputs": [
    {
     "data": {
      "image/png": "[encoded data removed]",
      "text/plain": [
       "<matplotlib.figure.Figure at 0x10a51510>"
      ]
     },
     "metadata": {},
     "output_type": "display_data"
    }
   ],
   "source": [
    "#Instances by word position in sentence\n",
    "data = df[['WordACC','WordIdx','WordCount']].groupby('WordCount').mean().groupby('WordIdx').mean()\n",
    "ax = data.plot(kind='line',figsize=(8,4),color = tableau20[0],legend = None )\n",
    "ax.set_title('Word Accuracy by Word Position')\n",
    "ax.set_xlabel('Nth Word')\n",
    "ax.set_ylabel('Word Accuracy')\n",
    "hide_spines()"
   ]
  },
  {
   "cell_type": "markdown",
   "metadata": {},
   "source": [
    "We have a lovely linearish negative relationship between phoneme accuracy and word position. Wow! >20% drop between the first and 8th word. Same result for phoneme accuracy?"
   ]
  },
  {
   "cell_type": "code",
   "execution_count": 42,
   "metadata": {
    "collapsed": false
   },
   "outputs": [
    {
     "data": {
      "image/png": "[encoded data removed]",
      "text/plain": [
       "<matplotlib.figure.Figure at 0x10c253b0>"
      ]
     },
     "metadata": {},
     "output_type": "display_data"
    }
   ],
   "source": [
    "#Instances by word position in sentence\n",
    "data = df[['PhonemeHitBool','WordIdx','WordCount']].groupby('WordCount').mean().groupby('WordIdx').mean()\n",
    "ax = data.plot(kind='line',figsize=(8,4),color = tableau20[0],legend = None )\n",
    "ax.set_title('Phoneme Accuracy by Word Position')\n",
    "ax.set_xlabel('Nth Word')\n",
    "ax.set_ylabel('Phoneme Accuracy')\n",
    "hide_spines()"
   ]
  },
  {
   "cell_type": "code",
   "execution_count": 43,
   "metadata": {
    "collapsed": false
   },
   "outputs": [
    {
     "data": {
      "image/png": "[encoded data removed]",
      "text/plain": [
       "<matplotlib.figure.Figure at 0xce96990>"
      ]
     },
     "metadata": {},
     "output_type": "display_data"
    }
   ],
   "source": [
    "#Instances by phoneme position in sentence\n",
    "data = df[['PhonemeHitBool','PhonemeIndex']].groupby('PhonemeIndex').mean()[0:45]\n",
    "ax = data.plot(kind='line',figsize=(8,4),color = tableau20[0],legend = None )\n",
    "ax.set_title('Phoneme Accuracy by Phoneme Position')\n",
    "ax.set_xlabel('Nth Phoneme')\n",
    "ax.set_ylabel('Phoneme Accuracy')\n",
    "hide_spines()"
   ]
  },
  {
   "cell_type": "markdown",
   "metadata": {},
   "source": [
    "Yup! Phoneme accuracy will be a bit higher overall to account for partially correct responses. Trend is the same though. Lets make this more interesting by splitting it up by condition."
   ]
  },
  {
   "cell_type": "code",
   "execution_count": 44,
   "metadata": {
    "collapsed": false
   },
   "outputs": [
    {
     "data": {
      "image/png": "[encoded data removed]",
      "text/plain": [
       "<matplotlib.figure.Figure at 0x10a86b50>"
      ]
     },
     "metadata": {},
     "output_type": "display_data"
    }
   ],
   "source": [
    "data = df[['WordACC','WordIdx','WordCount','VideoCond','SoundCond','Subject']].groupby(['VideoCond','SoundCond','WordCount']).mean()\n",
    "#data = data.loc[data['Subject'] <13,:]\n",
    "data = data.reset_index().groupby(['WordIdx','VideoCond','SoundCond']).mean().unstack().unstack()['WordACC']\n",
    "ax = data.plot(kind ='line',figsize=(7,7),color = [tableau20[x] for x in [0,1,2,3]])\n",
    "ax.legend(loc='best')\n",
    "ax.set_ylabel('Word Accuracy')\n",
    "ax.set_xlabel('Word Position in Sentence')\n",
    "hide_spines()"
   ]
  },
  {
   "cell_type": "markdown",
   "metadata": {},
   "source": []
  },
  {
   "cell_type": "code",
   "execution_count": null,
   "metadata": {
    "collapsed": false
   },
   "outputs": [],
   "source": [
    "av = 1-data.xs('Audiovisual',level = 1,axis=1)\n",
    "ao = 1-data.xs('Auditory Only',level = 1,axis=1)\n",
    "sumbyRatio = (ao-av)/ao\n",
    "ax = sumbyRatio.plot(kind ='line',figsize=(7,7),color = [tableau20[x] for x in [0,1]])\n",
    "ax.legend(loc='best')\n",
    "ax.set_ylabel('SumbyRatio')\n",
    "ax.set_xlabel('Word Position in Sentence')\n",
    "hide_spines()\n"
   ]
  },
  {
   "cell_type": "markdown",
   "metadata": {},
   "source": []
  },
  {
   "cell_type": "markdown",
   "metadata": {},
   "source": [
    "### Do some phonemes benefit from speechreading more than others?"
   ]
  },
  {
   "cell_type": "code",
   "execution_count": null,
   "metadata": {
    "collapsed": false
   },
   "outputs": [],
   "source": [
    "data = df.loc[df['SoundCond'] =='Babble',:]\n",
    "#a= data['AllPhonsMatch'] == False \n",
    "#b = data['AllPhonsMiss'] == False\n",
    "#boolIdx =a&b \n",
    "#data = data.loc[boolIdx,:]\n",
    "data = data[['TargetPhoneme','PhonemeHitBool','VideoCond']].groupby(['TargetPhoneme']).sum()\n",
    "instances = data\n",
    "data = data.sort_values('PhonemeHitBool')\n",
    "ax = data.plot(kind = 'bar',figsize=(12,4))\n",
    "ax.legend(loc='best')\n",
    "ax.set_ylabel('Noisy Instances')\n"
   ]
  },
  {
   "cell_type": "code",
   "execution_count": null,
   "metadata": {
    "collapsed": false
   },
   "outputs": [],
   "source": [
    "data = df.loc[df['SoundCond'] =='Babble',:]\n",
    "\n",
    "#Only look at partially correct words\n",
    "a= data['AllPhonsMatch'] == False \n",
    "b = data['AllPhonsMiss'] == False\n",
    "boolIdx =a&b \n",
    "data = data.loc[boolIdx,:]\n",
    "\n",
    "data = data[['TargetPhoneme','PhonemeHitBool','VideoCond']].groupby(['TargetPhoneme','VideoCond']).mean()\n",
    "data = data.unstack()\n",
    "ax = data.plot(kind = 'bar',figsize=(12,4))\n",
    "ax.legend(loc='lower right')\n",
    "ax.set_ylabel('Noisy Percent Correct')\n",
    "avNoisyPHit = data['PhonemeHitBool','Audiovisual']\n",
    "aoNoisyPHit = data['PhonemeHitBool','Auditory Only']\n",
    "plt.figure()\n",
    "dif = avNoisyPHit-aoNoisyPHit\n",
    "ax = dif.plot(kind = 'bar',figsize=(12,4))\n",
    "ax.legend(loc='lower right')\n",
    "ax.set_ylabel('Noisy Percent Correct AV advantage')"
   ]
  },
  {
   "cell_type": "code",
   "execution_count": null,
   "metadata": {
    "collapsed": false
   },
   "outputs": [],
   "source": [
    "data = df.loc[df['SoundCond'] =='Babble',:]\n",
    "\n",
    "#Only look at partially correct words\n",
    "#a= data['AllPhonsMatch'] == False \n",
    "#b = data['AllPhonsMiss'] == False\n",
    "#boolIdx =a&b \n",
    "#data = data.loc[boolIdx,:]\n",
    "\n",
    "data = data[['TargetPhoneme','PhonemeHitBool','VideoCond']].groupby(['TargetPhoneme','VideoCond']).sum()\n",
    "data = data.unstack()\n",
    "ax = data.plot(kind = 'bar',figsize=(12,4))\n",
    "ax.legend(loc='best')\n",
    "ax.set_ylabel('Noisy Total Correct')\n",
    "avNoisyPHitSum = data['PhonemeHitBool','Audiovisual']\n",
    "aoNoisyPHitSum = data['PhonemeHitBool','Auditory Only']\n"
   ]
  },
  {
   "cell_type": "code",
   "execution_count": null,
   "metadata": {
    "collapsed": false
   },
   "outputs": [],
   "source": [
    "avGain = avNoisyPHitSum-aoNoisyPHitSum\n",
    "avGainRank = avGain.rank(ascending = False)\n",
    "avGain.name = 'Count'\n",
    "data = avGain.sort_values()\n",
    "ax = data.plot(kind = 'bar',figsize=(12,4))\n",
    "ax.legend(loc='lower right')\n",
    "ax.set_ylabel('AV Correct-AO Correct Sums')"
   ]
  },
  {
   "cell_type": "code",
   "execution_count": null,
   "metadata": {
    "collapsed": false
   },
   "outputs": [],
   "source": [
    "data = df.loc[df['SoundCond'] =='Babble',:]\n",
    "\n",
    "#Only look at partially correct words\n",
    "#a= data['AllPhonsMatch'] == False \n",
    "#b = data['AllPhonsMiss'] == False\n",
    "#boolIdx =a&b \n",
    "#data = data.loc[boolIdx,:]\n",
    "\n",
    "data = data[['TargetPhoneme','PhonemeHitBool','VideoCond']].groupby(['TargetPhoneme','VideoCond']).mean()\n",
    "data = data.unstack()\n",
    "av = 1-data.xs('Audiovisual',level = 1,axis=1)\n",
    "ao = 1-data.xs('Auditory Only',level = 1,axis=1)\n",
    "sumbyRatio = (ao-av)/ao\n",
    "data = data.join(sumbyRatio)\n",
    "#instances.name = 'Count'\n",
    "#data = data.join(instances)\n",
    "data.columns = ['AV','AO','SumbyRatio']\n",
    "data = data.sort_values('SumbyRatio')\n",
    "ax =data['SumbyRatio'].plot(kind ='bar',figsize=(12,4),legend = None)\n",
    "ax.set_ylabel('Sumby Ratio')"
   ]
  },
  {
   "cell_type": "markdown",
   "metadata": {},
   "source": [
    "Yay! AV weights for all noisy phonemes!"
   ]
  },
  {
   "cell_type": "code",
   "execution_count": null,
   "metadata": {
    "collapsed": false
   },
   "outputs": [],
   "source": [
    "import os\n",
    "dfPT = pd.read_excel(os.path.normpath('C:\\TCDTIMIT\\Tables\\Custom\\TablesPhoneme.xlsx'),encoding='latin-1')\n",
    "sumbyRank = sumbyRatio.rank()\n",
    "aoNoisyRank = aoNoisyPHit.rank()\n",
    "avNoisyRank = avNoisyPHit.rank()\n",
    "rankDif = avNoisyRank-aoNoisyRank\n",
    "rankDifNorm = (rankDif-min(rankDif))/max(rankDif-min(rankDif))\n",
    "rankDifNorm"
   ]
  },
  {
   "cell_type": "markdown",
   "metadata": {},
   "source": [
    "Let's visualize the advantage of having visual information at the phonetic level a better way, with the help of an interactive phonetic chart! Lots of code below so be patient!"
   ]
  },
  {
   "cell_type": "code",
   "execution_count": null,
   "metadata": {
    "collapsed": false
   },
   "outputs": [],
   "source": [
    "\n",
    "global cmaps\n",
    "def BokehTable(cmaps):\n",
    "    from bokeh.models import HoverTool, ColumnDataSource,CustomJS\n",
    "    from bokeh.plotting import figure, show, output_file\n",
    "    import pandas as pd\n",
    "    import os\n",
    "    import math\n",
    "    from bokeh.io import output_notebook,vform,push_notebook\n",
    "    global source\n",
    "    \n",
    "\n",
    "    cmap = cmaps[0]        \n",
    "    output_notebook()\n",
    "    #dfPT = pd.DataFrame.from_csv(os.path.normpath('C:\\TCDTIMIT\\Tables\\Custom\\TablesPhoneme.csv'))\n",
    "    dfPT = pd.read_excel(os.path.normpath('C:\\TCDTIMIT\\Tables\\Custom\\TablesPhoneme.xlsx'),encoding='latin-1')\n",
    "    #cmap = [aoNoisyRank.loc[aoNoisyRank.index == cmu].values[0] for cmu in dfPT['CMU Phonemes'][0:39]]/max(aoNoisyRank.values)\n",
    "    #cmap = [rankDifNorm.loc[rankDifNorm.index == cmu].values[0] for cmu in dfPT['CMU Phonemes'][0:39]]/max(rankDifNorm.values)\n",
    "        \n",
    "    source = ColumnDataSource(\n",
    "        data=dict(\n",
    "            xaxis=[str(x) for x in dfPT['AdrianXCoord']],\n",
    "            yaxis=[str(y) for y in dfPT['AdrianYCoord']],\n",
    "            cmu=[str(s) for s in dfPT['CMU Phonemes']],\n",
    "            type=[str(x) for x in cmap],\n",
    "            sym=[x for x in dfPT['IPA symbol']],\n",
    "            jrank=[x for x in dfPT['Jeffers Visibility Rank']],\n",
    "            mpcrank=[x for x in dfPT['MPC Rank']], \n",
    "            gvrank=[x for x in dfPT['Gillen Based Visual Weight'].rank(ascending=False)],\n",
    "            gaorank=[x for x in dfPT['Gillen Audio Only Clear Hit Rate'].rank(ascending=False)],\n",
    "            example=[x for x in dfPT['CMU Examples']],   \n",
    "            type_color = ['#%02x%02x%02x' % (0,0,0) if math.isnan(x) else '#%02x%02x%02x' % (x*255,255-(x*255),0) for x in cmap] #Must be hexadecima\n",
    "        )\n",
    "    )\n",
    "\n",
    "    p = figure(tools=\"resize,hover,save\")\n",
    "    p.plot_width = 1200\n",
    "    p.toolbar_location = None\n",
    "    p.outline_line_color = None\n",
    "\n",
    "    p.rect(\"xaxis\", \"yaxis\", 0.9, 0.9, source=source,\n",
    "           fill_alpha=0.6, color=\"type_color\")\n",
    "\n",
    "    #p.rect(\"xaxis\", \"yaxis\", 0.9, 0.9, source=source,\n",
    "    #       fill_alpha=0.6)\n",
    "\n",
    "    text_props = {\n",
    "        \"source\": source,\n",
    "        \"angle\": 0,\n",
    "        \"color\": \"black\",\n",
    "        \"text_align\": \"left\",\n",
    "        \"text_baseline\": \"middle\"\n",
    "    }\n",
    "\n",
    "    p.text(x=\"xaxis\", y=\"yaxis\", text=\"sym\",\n",
    "           text_font_style=\"bold\", text_font_size=\"15pt\", **text_props)\n",
    "\n",
    "\n",
    "\n",
    "    p.grid.grid_line_color = None\n",
    "\n",
    "    p.select_one(HoverTool).tooltips = [\n",
    "        (\"cmu\", \"@cmu\"),\n",
    "        (\"example\", \"@example\"),\n",
    "        (\"jrank\",\"@jrank\"),\n",
    "        (\"mpcrank\",\"@mpcrank\"),\n",
    "        (\"gaorank\",\"@gaorank\"),\n",
    "        (\"gvrank\",\"@gvrank\"),\n",
    "\n",
    "    ]\n",
    "    show(p) \n",
    "    \n",
    "def update(f):\n",
    "    import math\n",
    "    from bokeh.io import push_notebook\n",
    "    cmap = cmaps[titles.index(f)] \n",
    "    type_color = ['#%02x%02x%02x' % (0,0,0) if math.isnan(x) else '#%02x%02x%02x' % (x*255,255-(x*255),0) for x in cmap]\n",
    "    source.data['type_color'] = type_color\n",
    "    push_notebook() "
   ]
  },
  {
   "cell_type": "code",
   "execution_count": null,
   "metadata": {
    "collapsed": false
   },
   "outputs": [],
   "source": [
    "data = df.loc[df['SoundCond'] =='Babble',:]\n",
    "#Only look at partially correct words\n",
    "#a= data['AllPhonsMatch'] == False \n",
    "#b = data['AllPhonsMiss'] == False\n",
    "#boolIdx =a&b \n",
    "#data = data.loc[boolIdx,:]\n",
    "\n",
    "data = data[['TargetPhoneme','PhonemeHitBool','VideoCond']].groupby(['TargetPhoneme','VideoCond']).mean()\n",
    "data = data.unstack()\n",
    "ao = data.xs('Auditory Only',level = 1,axis=1)\n",
    "av = data.xs('Audiovisual',level = 1,axis=1)\n",
    "\n",
    "#Lousy Hack!!!!!!!!!!\n",
    "ao.loc[('ZH'),('PhonemeHitBool')] = 0\n",
    "av.loc[('ZH'),('PhonemeHitBool')] = 0\n",
    "\n",
    "aoRank = ao.rank(ascending = False)\n",
    "avRank = av.rank(ascending = False)\n",
    "\n",
    "\n",
    "\n",
    "sumbyRatio = ((1-ao)-(1-av))/(1-ao)\n",
    "sumbyRank = sumbyRatio.rank(ascending = False)\n",
    "dfPT = pd.read_excel(os.path.normpath('C:\\TCDTIMIT\\Tables\\Custom\\TablesPhoneme.xlsx'),encoding='latin-1')\n",
    "\n",
    "cmaps =[]\n",
    "titles =[]\n",
    "\n",
    "Jeffers = dfPT['Jeffers Visibility Rank']\n",
    "titles.append('Jeffers Visibility Map')\n",
    "cmaps.append(Jeffers/max(Jeffers))\n",
    "\n",
    "MPC = dfPT['MPC Rank']\n",
    "titles.append('Movement-to-Phonetic Correspondance Map')\n",
    "cmaps.append(MPC/max(MPC))\n",
    "\n",
    "titles.append('Sumby Noisy Visibility Map')\n",
    "cmaps.append([sumbyRank.loc[sumbyRank.index == cmu].values[0][0] for cmu in dfPT['CMU Phonemes'][0:39]]/max(sumbyRank.values))\n",
    "\n",
    "titles.append('Auditory Only Noisy Rank Map')\n",
    "cmaps.append([aoRank.loc[aoRank.index == cmu].values[0][0] for cmu in dfPT['CMU Phonemes'][0:39]]/max(aoRank.values)) \n",
    "\n",
    "titles.append('Audiovisual Noisy Rank Map')\n",
    "cmaps.append([avRank.loc[avRank.index == cmu].values[0][0] for cmu in dfPT['CMU Phonemes'][0:39]]/max(avRank.values)) \n",
    "\n",
    "titles.append('AV Gain Raw Rank')\n",
    "cmaps.append([avGainRank[avGainRank.index == cmu].values for cmu in dfPT['CMU Phonemes'][0:39]]/max(avGainRank.values)) \n",
    "\n",
    "#pd.concat([Jeffers,dfPT['CMU Phonemes'][0:39]],axis=1).set_index('CMU Phonemes')"
   ]
  },
  {
   "cell_type": "code",
   "execution_count": null,
   "metadata": {
    "collapsed": false
   },
   "outputs": [],
   "source": [
    "sumbyRank"
   ]
  },
  {
   "cell_type": "markdown",
   "metadata": {},
   "source": [
    "Here it is! Use the drop down menu below to select the coloring scheme for the phonetic chart."
   ]
  },
  {
   "cell_type": "code",
   "execution_count": null,
   "metadata": {
    "collapsed": false,
    "scrolled": true
   },
   "outputs": [],
   "source": [
    "from IPython.html.widgets import interact\n",
    "interact(update,f=titles)"
   ]
  },
  {
   "cell_type": "code",
   "execution_count": null,
   "metadata": {
    "collapsed": false,
    "scrolled": false
   },
   "outputs": [],
   "source": [
    "BokehTable(cmaps)    "
   ]
  },
  {
   "cell_type": "code",
   "execution_count": null,
   "metadata": {
    "collapsed": false
   },
   "outputs": [],
   "source": [
    "#For future reference\n",
    "#callback = CustomJS(args=dict(source=source), code=\"\"\"\n",
    "#        var data = source.get('data');\n",
    "#        var f = cb_obj.get('value')\n",
    "#        x = data['x']\n",
    "#        y = data['y']\n",
    "#        for (i = 0; i < x.length; i++) {\n",
    "#            y[i] = Math.pow(x[i], f)\n",
    "#        }\n",
    "#        source.trigger('change');\n",
    "#    \"\"\")\n"
   ]
  },
  {
   "cell_type": "markdown",
   "metadata": {},
   "source": [
    "We can also look at the map for the clear data"
   ]
  },
  {
   "cell_type": "code",
   "execution_count": null,
   "metadata": {
    "collapsed": false,
    "scrolled": true
   },
   "outputs": [],
   "source": [
    "data = df.loc[df['SoundCond'] =='Clear',:]\n",
    "\n",
    "\n",
    "data = data[['TargetPhoneme','PhonemeHitBool','VideoCond']].groupby(['TargetPhoneme','VideoCond']).mean()\n",
    "data = data.unstack()\n",
    "av = 1-data.xs('Audiovisual',level = 1,axis=1)\n",
    "ao = 1-data.xs('Auditory Only',level = 1,axis=1)\n",
    "sumbyRatio = (ao-av)/ao\n",
    "sumbyRank = sumbyRatio.rank(ascending = False)\n",
    "cmaps = []\n",
    "titles = []\n",
    "cmaps.append([sumbyRank.loc[sumbyRank.index == cmu].values[0][0] for cmu in dfPT['CMU Phonemes'][0:39]]/max(sumbyRank.values))\n",
    "titles.append('Sumby Clear Visibility Map')\n",
    "BokehTable(cmaps)"
   ]
  },
  {
   "cell_type": "markdown",
   "metadata": {
    "collapsed": true
   },
   "source": [
    "### Did participants have similar performance?"
   ]
  },
  {
   "cell_type": "code",
   "execution_count": null,
   "metadata": {
    "collapsed": false
   },
   "outputs": [],
   "source": [
    "#Average acc\n",
    "ax = df[['PhonemeHitBool','Talker','Subject']][df['SoundCond'] == 'Clear'].groupby('Subject').mean().plot(kind = 'bar',figsize=(8,4),legend = None)\n",
    "ax.set_ylabel('Mean Accuracy')"
   ]
  },
  {
   "cell_type": "code",
   "execution_count": null,
   "metadata": {
    "collapsed": false
   },
   "outputs": [],
   "source": [
    "#Average acc\n",
    "ax = df[['PhonemeHitBool','Talker','Subject']][df['SoundCond'] == 'Babble'].groupby('Subject').mean().plot(kind = 'bar',figsize=(8,4),legend = None)\n",
    "ax.set_ylabel('Mean Accuracy')"
   ]
  },
  {
   "cell_type": "code",
   "execution_count": null,
   "metadata": {
    "collapsed": false
   },
   "outputs": [],
   "source": [
    "#Average acc\n",
    "ax = df[['PhonemeHitBool','Talker','Subject']][df['SoundCond'] == 'Babble'].groupby(['Talker','Subject']).mean().plot(kind = 'bar',figsize=(8,4),legend = None)\n",
    "ax.set_ylabel('Mean Accuracy')"
   ]
  },
  {
   "cell_type": "markdown",
   "metadata": {},
   "source": []
  },
  {
   "cell_type": "markdown",
   "metadata": {},
   "source": [
    "### Did participants improve over the course of of each block as they got used to the speaker?"
   ]
  },
  {
   "cell_type": "code",
   "execution_count": null,
   "metadata": {
    "collapsed": false,
    "scrolled": true
   },
   "outputs": [],
   "source": [
    "data = df[['PhonemeHitBool','TrialOrder']][df['SoundCond'] == 'Babble'].groupby('TrialOrder').mean()\n",
    "data.plot(kind = 'line',figsize=(8,4),legend = None)\n",
    "ax.set_ylabel('Mean Accuracy')\n",
    "\n",
    "#From Dan Allen\n",
    "import statsmodels.api as sm\n",
    "def fit_line2(x, y):\n",
    "    \"\"\"Return slope, intercept of best fit line.\"\"\"\n",
    "    X = sm.add_constant(x)\n",
    "    model = sm.OLS(y, X, missing='drop') # ignores entires where x or y is NaN\n",
    "    fit = model.fit()\n",
    "    return fit.params[1], fit.params[0] # could also return stderr in each via fit.bse\n",
    "x = data.index\n",
    "y = data.values\n",
    "m, b = fit_line2(x,y)\n",
    "N = 100 # could be just 2 if you are only drawing a straight line...\n",
    "points = np.linspace(x.min(), x.max(), N)\n",
    "plt.plot(points, m*points + b)\n"
   ]
  },
  {
   "cell_type": "markdown",
   "metadata": {
    "collapsed": true
   },
   "source": [
    "### Do different parts of speech have different AV profiles?"
   ]
  },
  {
   "cell_type": "code",
   "execution_count": null,
   "metadata": {
    "collapsed": false
   },
   "outputs": [],
   "source": [
    "df['PENNPOS'][0:9]"
   ]
  },
  {
   "cell_type": "code",
   "execution_count": null,
   "metadata": {
    "collapsed": false
   },
   "outputs": [],
   "source": [
    "#Average acc\n",
    "ax = df[['PhonemeHitBool','VideoCond','UPOS']][df['SoundCond'] == 'Babble'].groupby(['UPOS','VideoCond']).mean().unstack().plot(kind = 'bar',figsize=(8,4))\n",
    "ax.set_ylabel('Mean Accuracy')"
   ]
  },
  {
   "cell_type": "code",
   "execution_count": null,
   "metadata": {
    "collapsed": false
   },
   "outputs": [],
   "source": [
    "#Average acc\n",
    "ax = df[['PhonemeHitBool','VideoCond','PENNPOS']][df['SoundCond'] == 'Babble'].groupby(['PENNPOS','VideoCond']).mean().unstack().plot(kind = 'bar',figsize=(8,4))\n",
    "ax.set_ylabel('Mean Accuracy')"
   ]
  },
  {
   "cell_type": "code",
   "execution_count": null,
   "metadata": {
    "collapsed": false
   },
   "outputs": [],
   "source": [
    "#Counts\n",
    "ax = df[['PhonemeHitBool','VideoCond','pennpos']][df['SoundCond'] == 'Babble'].groupby(['pennpos','VideoCond']).count().unstack().plot(kind = 'bar',figsize=(8,4))\n",
    "ax.set_ylabel('Count')"
   ]
  },
  {
   "cell_type": "code",
   "execution_count": null,
   "metadata": {
    "collapsed": false
   },
   "outputs": [],
   "source": [
    "#COunts\n",
    "ax = df[['WordIdx','upos']][df['SoundCond'] == 'Babble'].groupby(['upos','WordIdx']).size().unstack().plot(kind = 'bar',figsize=(8,4))\n",
    "ax.set_ylabel('Count')\n",
    "ax.legend(loc= 'best')"
   ]
  },
  {
   "cell_type": "code",
   "execution_count": null,
   "metadata": {
    "collapsed": false
   },
   "outputs": [],
   "source": [
    "#Long sentence analysis\n",
    "videoByBabble = df[['pennpos','VideoCond','PhonemeHitBool']].loc[df['SoundCond'] == 'Babble',:].groupby(['pennpos','VideoCond']).mean().unstack()\n",
    "videoByBabbleCount = df[['pennpos','VideoCond','PhonemeHitBool']].loc[df['SoundCond'] == 'Babble',:].groupby(['pennpos','VideoCond']).size().unstack()\n",
    "#Restrict to words with more than 300 instances in each group\n",
    "booldf =(videoByBabbleCount > 300)\n",
    "videoByBabble = videoByBabble[(booldf['Audiovisual'] == True) & (booldf['Auditory Only'] == True)]\n",
    "videoByBabble\n",
    "#ax = videoByBabble.plot(kind = 'bar',color = tableau20[0:1])\n",
    "ax = videoByBabble.plot(kind ='bar',figsize = (6,4), color = [tableau20[x] for x in [0,5]])\n",
    "ax.set_ylabel('Phoneme Accuracy')\n",
    "ax.set_xlabel('Noise Level')\n",
    "ax.legend(loc='best',labels = ['Audiovisual','Auditory Only'])\n",
    "plt.figure()\n",
    "videoByBabbleInvert = 1-videoByBabble.loc[:,:]\n",
    "\n",
    "av = videoByBabbleInvert.xs('Audiovisual',level = 1,axis=1)\n",
    "ao = videoByBabbleInvert.xs('Auditory Only',level = 1,axis=1)\n",
    "sumbyRatio = ((ao-av)/ao)\n",
    "videoByBabbleInvert['PhonemeHitBool','SumbyRatio'] = sumbyRatio\n",
    "videoByBabbleInvert"
   ]
  },
  {
   "cell_type": "code",
   "execution_count": null,
   "metadata": {
    "collapsed": false
   },
   "outputs": [],
   "source": [
    "data=df\n",
    "videoByBabble = data[['upos','VideoCond','PhonemeHitBool']].loc[data['SoundCond'] == 'Babble',:].groupby(['upos','VideoCond']).mean().unstack()\n",
    "videoByBabbleCount = data[['upos','VideoCond','PhonemeHitBool']].loc[data['SoundCond'] == 'Babble',:].groupby(['upos','VideoCond']).size().unstack()\n",
    "#Restrict to words with more than 200 instances in each group\n",
    "booldf =(videoByBabbleCount > 200)\n",
    "videoByBabble = videoByBabble[(booldf['Audiovisual'] == True) & (booldf['Auditory Only'] == True)]\n",
    "videoByBabble\n",
    "#ax = videoByBabble.plot(kind = 'bar',color = tableau20[0:1])\n",
    "ax = videoByBabble.plot(kind ='bar',figsize = (6,4), color = [tableau20[x] for x in [0,5]])\n",
    "ax.set_ylabel('Phoneme Accuracy')\n",
    "ax.set_xlabel('Noise Level')\n",
    "ax.legend(loc='lower left',labels = ['Audiovisual','Auditory Only'])\n",
    "plt.figure()\n",
    "videoByBabbleInvert = 1-videoByBabble.loc[:,:]\n",
    "\n",
    "av = videoByBabbleInvert.xs('Audiovisual',level = 1,axis=1)\n",
    "ao = videoByBabbleInvert.xs('Auditory Only',level = 1,axis=1)\n",
    "sumbyRatio = ((ao-av)/ao)\n",
    "videoByBabbleInvert['PhonemeHitBool','SumbyRatio'] = sumbyRatio\n",
    "videoByBabbleInvert"
   ]
  },
  {
   "cell_type": "code",
   "execution_count": null,
   "metadata": {
    "collapsed": false
   },
   "outputs": [],
   "source": [
    "#Restrict to a particular word position\n",
    "data = df.loc[df['WordIdx'] == 1,:]\n",
    "#data=df\n",
    "videoByBabble = data[['upos','VideoCond','PhonemeHitBool']].loc[data['SoundCond'] == 'Babble',:].groupby(['upos','VideoCond']).mean().unstack()\n",
    "videoByBabbleCount = data[['upos','VideoCond','PhonemeHitBool']].loc[data['SoundCond'] == 'Babble',:].groupby(['upos','VideoCond']).size().unstack()\n",
    "#Restrict to words with more than 100 instances in each group\n",
    "booldf =(videoByBabbleCount > 100)\n",
    "videoByBabble = videoByBabble[(booldf['Audiovisual'] == True) & (booldf['Auditory Only'] == True)]\n",
    "videoByBabbleCount = videoByBabbleCount[(booldf['Audiovisual'] == True) & (booldf['Auditory Only'] == True)]\n",
    "#ax = videoByBabble.plot(kind = 'bar',color = tableau20[0:1])\n",
    "ax = videoByBabbleCount.plot(kind ='bar',figsize = (6,4), color = [tableau20[x] for x in [0,5]])\n",
    "ax.set_ylabel('Phoneme Count')\n",
    "ax.set_xlabel('Part of Speech')\n",
    "ax.legend(loc='best',labels = ['Audiovisual','Auditory Only'])\n",
    "\n",
    "plt.figure()\n",
    "\n",
    "#ax = videoByBabble.plot(kind = 'bar',color = tableau20[0:1])\n",
    "ax = videoByBabble.plot(kind ='bar',figsize = (6,4), color = [tableau20[x] for x in [0,5]])\n",
    "ax.set_ylabel('Phoneme Accuracy')\n",
    "ax.set_xlabel('Part Of Speech')\n",
    "ax.legend(loc='lower left',labels = ['Audiovisual','Auditory Only'])\n",
    "plt.figure()\n",
    "videoByBabbleInvert = 1-videoByBabble.loc[:,:]\n",
    "\n",
    "av = videoByBabbleInvert.xs('Audiovisual',level = 1,axis=1)\n",
    "ao = videoByBabbleInvert.xs('Auditory Only',level = 1,axis=1)\n",
    "sumbyRatio = ((ao-av)/ao)\n",
    "videoByBabbleInvert['PhonemeHitBool','SumbyRatio'] = sumbyRatio\n",
    "videoByBabbleInvert\n",
    "\n"
   ]
  },
  {
   "cell_type": "code",
   "execution_count": null,
   "metadata": {
    "collapsed": false
   },
   "outputs": [],
   "source": [
    "#Restrict to a particular word position\n",
    "data = df.loc[df['upos'] == 'NOUN',:]\n",
    "#data=df\n",
    "videoByBabble = data[['WordIdx','VideoCond','PhonemeHitBool']].loc[data['SoundCond'] == 'Babble',:].groupby(['WordIdx','VideoCond']).mean().unstack()\n",
    "videoByBabbleCount = data[['WordIdx','VideoCond','PhonemeHitBool']].loc[data['SoundCond'] == 'Babble',:].groupby(['WordIdx','VideoCond']).size().unstack()\n",
    "#Restrict to words with more than 50 instances in each group\n",
    "booldf =(videoByBabbleCount > 50)\n",
    "videoByBabble = videoByBabble[(booldf['Audiovisual'] == True) & (booldf['Auditory Only'] == True)]\n",
    "videoByBabbleCount = videoByBabbleCount[(booldf['Audiovisual'] == True) & (booldf['Auditory Only'] == True)]\n",
    "#ax = videoByBabble.plot(kind = 'bar',color = tableau20[0:1])\n",
    "ax = videoByBabbleCount.plot(kind ='bar',figsize = (6,4), color = [tableau20[x] for x in [0,5]])\n",
    "ax.set_ylabel('Phoneme Count')\n",
    "ax.set_xlabel('WordIdx')\n",
    "ax.legend(loc='best',labels = ['Audiovisual','Auditory Only'])\n",
    "\n",
    "plt.figure()\n",
    "\n",
    "#ax = videoByBabble.plot(kind = 'bar',color = tableau20[0:1])\n",
    "ax = videoByBabble.plot(kind ='bar',figsize = (6,4), color = [tableau20[x] for x in [0,5]])\n",
    "ax.set_ylabel('Phoneme Accuracy')\n",
    "ax.set_xlabel('WordIdx')\n",
    "ax.legend(loc='lower left',labels = ['Audiovisual','Auditory Only'])\n",
    "plt.figure()\n",
    "videoByBabbleInvert = 1-videoByBabble.loc[:,:]\n",
    "\n",
    "av = videoByBabbleInvert.xs('Audiovisual',level = 1,axis=1)\n",
    "ao = videoByBabbleInvert.xs('Auditory Only',level = 1,axis=1)\n",
    "sumbyRatio = ((ao-av)/ao)\n",
    "videoByBabbleInvert['PhonemeHitBool','SumbyRatio'] = sumbyRatio\n",
    "#videoByBabbleInvert"
   ]
  },
  {
   "cell_type": "code",
   "execution_count": null,
   "metadata": {
    "collapsed": false
   },
   "outputs": [],
   "source": [
    "#COunts\n",
    "ax = df[['TargetPhoneme','upos']][df['SoundCond'] == 'Babble'].groupby(['TargetPhoneme','upos']).size().unstack().plot(kind = 'line',figsize=(30,12))\n",
    "ax.set_ylabel('Count')\n",
    "ax.legend(loc= 'best')"
   ]
  },
  {
   "cell_type": "code",
   "execution_count": null,
   "metadata": {
    "collapsed": false
   },
   "outputs": [],
   "source": [
    "import math\n",
    "def amp2db(scalar):\n",
    "    return 20 * math.log10(scalar)\n",
    "\n",
    "df['SpeechdB'] =  df['SpeechRMS'].apply(lambda x: amp2db(x) if x >=0 else 0)\n",
    "df['SpeechdBRel'] = df[['SpeechdB','SentenceCount']].groupby('SentenceCount').apply(lambda x: x-np.mean(x))['SpeechdB']\n",
    "df[['HTKPhoneme','SpeechdBRel']].groupby('HTKPhoneme').mean().plot(kind='bar',figsize=(12,4))\n",
    "df[['WordIdx','SpeechdBRel']].groupby('WordIdx').mean().plot(kind='bar',figsize=(12,4))\n",
    "df[['WordACC','SpeechdBRel']].groupby('WordACC').mean().plot(kind='bar',figsize=(12,4))\n",
    "isNoisy = df['SoundCond'] == 'Babble'\n",
    "dfN = df[isNoisy]\n",
    "dfN['RelCut'] = pd.cut(dfN['SpeechdBRel'],[-30, -15,  0, 30])\n",
    "dfN[['PhonemeHitBool','RelCut',]].groupby('RelCut').mean().plot(kind='bar',figsize=(12,4))\n",
    "\n",
    "dfN[['PhonemeHitBool','WordIdx','RelCut']].groupby(['WordIdx','RelCut']).mean().unstack().plot(kind='line',figsize=(12,4))"
   ]
  },
  {
   "cell_type": "code",
   "execution_count": null,
   "metadata": {
    "collapsed": false
   },
   "outputs": [],
   "source": [
    "dfN['1LogCut'] = pd.qcut(dfN['1LogGram'],2)\n",
    "dfN[['PhonemeHitBool','WordIdx','1LogCut']].groupby(['WordIdx','1LogCut']).mean().unstack().plot(kind='line',figsize=(12,4))"
   ]
  },
  {
   "cell_type": "code",
   "execution_count": null,
   "metadata": {
    "collapsed": false
   },
   "outputs": [],
   "source": [
    "ax = dfN[['PhonemeHitBool','WordIdx','VideoCond']].groupby(['WordIdx','VideoCond']).mean().unstack().plot(kind='line',figsize=(12,4))\n",
    "ax.legend(loc='best')"
   ]
  },
  {
   "cell_type": "code",
   "execution_count": null,
   "metadata": {
    "collapsed": false
   },
   "outputs": [],
   "source": [
    "ax = dfN[['PhonemeHitBool','WordIdx','NumWordsInSentence']].groupby(['WordIdx','NumWordsInSentence']).mean().unstack().plot(kind='line',figsize=(12,4))\n",
    "ax.legend(loc='upper right')"
   ]
  },
  {
   "cell_type": "code",
   "execution_count": null,
   "metadata": {
    "collapsed": false
   },
   "outputs": [],
   "source": [
    "numSubs = 24\n",
    "grouped= dfN[['PhonemeHitBool','WordIdx','NumWordsInSentence','Subject']].groupby(['WordIdx','NumWordsInSentence','Subject'])\n",
    "subMean = grouped.mean().reset_index()\n",
    "subMean\n",
    "subG =subMean[['PhonemeHitBool','WordIdx','NumWordsInSentence','Subject']].groupby(['WordIdx','NumWordsInSentence'])\n",
    "means = subG.mean()['PhonemeHitBool']\n",
    "errors = subG.std()['PhonemeHitBool']/np.sqrt(float(numSubs-1))\n",
    "means.columns = {'2','3','4','5','6','7','8','9','10'}\n",
    "errors.columns = {'2','3','4','5','6','7','8','9','10'}\n",
    "means\n",
    "errors\n",
    "fig, ax = plt.subplots()\n",
    "means.plot(yerr=errors, kind='bar',ax=ax,figsize=(12,4))\n"
   ]
  },
  {
   "cell_type": "code",
   "execution_count": null,
   "metadata": {
    "collapsed": false
   },
   "outputs": [],
   "source": [
    "df.keys()"
   ]
  },
  {
   "cell_type": "code",
   "execution_count": null,
   "metadata": {
    "collapsed": false
   },
   "outputs": [],
   "source": [
    "ax = dfN[['PhonemeHitBool','HTKPhoneme']].groupby(['HTKPhoneme']).mean().unstack().plot(kind='bar',figsize=(12,4))\n"
   ]
  },
  {
   "cell_type": "code",
   "execution_count": null,
   "metadata": {
    "collapsed": false
   },
   "outputs": [],
   "source": [
    "ax = dfN[['PhonemeHitBool','TargetPhoneme']].groupby(['TargetPhoneme']).mean().unstack().plot(kind='bar',figsize=(12,4))"
   ]
  },
  {
   "cell_type": "code",
   "execution_count": null,
   "metadata": {
    "collapsed": false
   },
   "outputs": [],
   "source": [
    "ax = dfN[['PhonemeHitBool','WordIdx','NumWordsInSentence','VideoCond']].groupby(['VideoCond','WordIdx','NumWordsInSentence',]).mean().unstack().plot(kind='bar',figsize=(12,4))\n",
    "ax.legend(loc='lower left',labels ='')"
   ]
  },
  {
   "cell_type": "code",
   "execution_count": null,
   "metadata": {
    "collapsed": true
   },
   "outputs": [],
   "source": []
  }
 ],
 "metadata": {
  "kernelspec": {
   "display_name": "Python 2",
   "language": "python",
   "name": "python2"
  },
  "language_info": {
   "codemirror_mode": {
    "name": "ipython",
    "version": 2
   },
   "file_extension": ".py",
   "mimetype": "text/x-python",
   "name": "python",
   "nbconvert_exporter": "python",
   "pygments_lexer": "ipython2",
   "version": "2.7.11"
  }
 },
 "nbformat": 4,
 "nbformat_minor": 0
}
